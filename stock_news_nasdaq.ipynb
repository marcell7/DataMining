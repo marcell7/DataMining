{
 "cells": [
  {
   "cell_type": "code",
   "execution_count": 29,
   "id": "f7175438-c50e-4ba8-9c1f-206cd839d69b",
   "metadata": {},
   "outputs": [],
   "source": [
    "import pandas as pd\n",
    "import requests\n",
    "import json\n",
    "from datetime import datetime\n",
    "import time"
   ]
  },
  {
   "cell_type": "code",
   "execution_count": 49,
   "id": "76c1a6e0-e0a7-49cc-b503-f7a8971e667d",
   "metadata": {
    "tags": []
   },
   "outputs": [],
   "source": [
    "def get_stock_news_headlines(ticker, news_count=800, sleep=2):\n",
    "    \"\"\"\n",
    "    Function that scrapes stock news headlines from NASDAQ. -> https://www.nasdaq.com/market-activity/stocks/aapl/news-headlines\n",
    "    Make sure news_count is not greater than the number of available news.\n",
    "    \n",
    "    \n",
    "    ticker: str\n",
    "    news_count: int\n",
    "    sleep: int\n",
    "    \n",
    "    returns: list[dict]\n",
    "    \"\"\"\n",
    "    _offset = 0\n",
    "    _limit = 8\n",
    "    _pages = int(news_count / limit)\n",
    "    _headers = {'User-Agent': 'Mozilla/5.0 (Windows NT 10.0; Win64; x64; rv:107.0) Gecko/20100101 Firefox/107.0'}\n",
    "    \n",
    "    news = []\n",
    "    \n",
    "    for i in range(_pages):\n",
    "        api_call = f\"https://api.nasdaq.com/api/news/topic/articlebysymbol?q={ticker.lower()}|stocks&offset={_offset}&limit={_limit}&fallback=false\"\n",
    "        _offset += _limit\n",
    "        \n",
    "        r = requests.get(api_call, headers=_headers).json()\n",
    "        \n",
    "        for row in r[\"data\"][\"rows\"]:\n",
    "            news.append(\n",
    "                {\n",
    "                    \"title\": row[\"title\"],\n",
    "                    \"uploaded\": row[\"ago\"],\n",
    "                    \"url\": row[\"url\"],\n",
    "                    \"timestamp\": datetime.now().strftime(\"%d.%m.%Y;%H:%M:%S\"),\n",
    "                }\n",
    "            )\n",
    "            \n",
    "        print(f\"No. of scraped news: {len(news)}\")\n",
    "        print(\"______________________________________________\")\n",
    "        print(f\"API call -> {api_call}...\")\n",
    "        time.sleep(sleep)\n",
    "        \n",
    "    return news\n",
    "\n",
    "\n",
    "def export_news_data(news, out_file=\"output.csv\"):\n",
    "    \"\"\"\n",
    "    Function that exports news data returned from 'get_stock_news'.\n",
    "    \n",
    "    news: list[dict]\n",
    "    out_file: str\n",
    "    \n",
    "    returns: pd.DataFrame\n",
    "    \"\"\"\n",
    "    df = pd.DataFrame(news)\n",
    "    _file_extension = out_file.split(\".\")[-1]\n",
    "    \n",
    "    if _file_extension == \"xlsx\":\n",
    "        df.to_excel(out_file, sheet_name=\"news\")\n",
    "    else:\n",
    "        df.to_csv(out_file)\n",
    "   \n",
    "    return pd.DataFrame(news)"
   ]
  },
  {
   "cell_type": "code",
   "execution_count": null,
   "id": "1d8b6be2-0d93-4e6c-a32f-027901d0c87a",
   "metadata": {
    "tags": []
   },
   "outputs": [],
   "source": [
    "news = get_stock_news(\"aapl\", news_count=2000)"
   ]
  },
  {
   "cell_type": "code",
   "execution_count": null,
   "id": "fe577db8-712f-4c70-9d1a-ffafe5042aa8",
   "metadata": {
    "tags": []
   },
   "outputs": [],
   "source": [
    "export_news_data(news)"
   ]
  }
 ],
 "metadata": {
  "kernelspec": {
   "display_name": "Python 3 (ipykernel)",
   "language": "python",
   "name": "python3"
  },
  "language_info": {
   "codemirror_mode": {
    "name": "ipython",
    "version": 3
   },
   "file_extension": ".py",
   "mimetype": "text/x-python",
   "name": "python",
   "nbconvert_exporter": "python",
   "pygments_lexer": "ipython3",
   "version": "3.9.12"
  }
 },
 "nbformat": 4,
 "nbformat_minor": 5
}
