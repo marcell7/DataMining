{
 "cells": [
  {
   "cell_type": "code",
   "execution_count": null,
   "metadata": {},
   "outputs": [],
   "source": [
    "import numpy as np\n",
    "import pandas as pd\n",
    "from sklearn.model_selection import GridSearchCV, cross_validate, train_test_split\n",
    "from sklearn.metrics import ConfusionMatrixDisplay, RocCurveDisplay\n",
    "from matplotlib import pyplot as plt"
   ]
  },
  {
   "cell_type": "code",
   "execution_count": null,
   "metadata": {},
   "outputs": [],
   "source": [
    "def one_hot_encode(attributes):\n",
    "    attributes_ = pd.get_dummies(attributes)\n",
    "    return attributes_\n",
    "\n",
    "\n",
    "def train(\n",
    "    model, \n",
    "    attributes, \n",
    "    labels, \n",
    "    n_folds, \n",
    "    GS_grid=None):\n",
    "    \n",
    "    X = attributes.to_numpy()\n",
    "    y = labels.to_numpy()\n",
    "    \n",
    "    if GS_grid:\n",
    "        print(\"Grid search...\")\n",
    "        search = GridSearchCV(model, GS_grid, cv=n_folds, scoring=\"accuracy\")\n",
    "        search.fit(X, y)\n",
    "        print(f\"Best model: {search.best_estimator_} /n Best params: {search.best_params_} /n Accuracy: {search.best_score_}\")\n",
    "\n",
    "        return search, X, y\n",
    "    \n",
    "    else:\n",
    "        cv = cross_validate(\n",
    "            model, X, y, cv=n_folds, \n",
    "            return_estimator=True, \n",
    "            scoring=\"accuracy\")\n",
    "        \n",
    "        print(f\"Accuracy: {cv['test_score'].mean()}% +- {cv['test_score'].std()}%\" )\n",
    "        \n",
    "        return cv[\"estimator\"][-1], X, y\n",
    "    \n",
    "\n",
    "def get_confusion_matrix(trained_model, X, y):\n",
    "    X_train, X_test, y_train, y_test = train_test_split(X, y, test_size=0.2)\n",
    "    ConfusionMatrixDisplay.from_estimator(trained_model, X_test, y_test)\n",
    "\n",
    "\n",
    "def get_roc_auc(trained_models, Xs, ys):\n",
    "    plot = None\n",
    "    for trained_model, X, y in zip(trained_models, Xs, ys):\n",
    "        X_train, X_test, y_train, y_test = train_test_split(X, y, test_size=0.2)\n",
    "        if not isinstance(plot, RocCurveDisplay):\n",
    "            plot = RocCurveDisplay.from_estimator(trained_model, X_test, y_test)\n",
    "            \n",
    "        else:\n",
    "            RocCurveDisplay.from_estimator(trained_model, X_test, y_test, ax=plot)\n",
    "    \n",
    "    "
   ]
  }
 ],
 "metadata": {
  "language_info": {
   "name": "python"
  },
  "orig_nbformat": 4
 },
 "nbformat": 4,
 "nbformat_minor": 2
}
